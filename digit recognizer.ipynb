{
 "cells": [
  {
   "cell_type": "code",
   "execution_count": 124,
   "metadata": {
    "collapsed": true
   },
   "outputs": [],
   "source": [
    "# Import libraries\n",
    "from keras.models import Sequential\n",
    "from keras.layers import Conv2D, Dense, Dropout, MaxPooling2D, Flatten\n",
    "from keras.utils import np_utils\n",
    "import pandas as pd\n",
    "import numpy as np\n",
    "import matplotlib.pyplot as plt\n",
    "import time\n",
    "%matplotlib inline"
   ]
  },
  {
   "cell_type": "code",
   "execution_count": 125,
   "metadata": {
    "collapsed": true
   },
   "outputs": [],
   "source": [
    "# Keep reproducible results\n",
    "import tensorflow as tf\n",
    "import random as rn\n",
    "import os\n",
    "os.environ['PYTHONHASHSEED'] = '0'\n",
    "np.random.seed(42)\n",
    "rn.seed(12345)\n",
    "session_conf = tf.ConfigProto(intra_op_parallelism_threads=1, inter_op_parallelism_threads=1)\n",
    "\n",
    "from keras import backend as K\n",
    "\n",
    "tf.set_random_seed(1234)\n",
    "\n",
    "sess = tf.Session(graph=tf.get_default_graph(), config=session_conf)\n",
    "K.set_session(sess)"
   ]
  },
  {
   "cell_type": "code",
   "execution_count": 126,
   "metadata": {
    "collapsed": true
   },
   "outputs": [],
   "source": [
    "# Input preprocessing\n",
    "train = pd.read_csv('train.csv')\n",
    "test_data = pd.read_csv('test.csv')\n",
    "train_label = train.iloc[:, :1]\n",
    "train_data = train.iloc[:, 1:]"
   ]
  },
  {
   "cell_type": "code",
   "execution_count": 127,
   "metadata": {},
   "outputs": [
    {
     "name": "stdout",
     "output_type": "stream",
     "text": [
      "shape of train X: (42000, 28, 28, 1)\n",
      "shape of train Y: (42000, 10)\n",
      "shape of test X: (28000, 28, 28, 1)\n"
     ]
    }
   ],
   "source": [
    "X_train = train_data.values.astype('float32')\n",
    "size = X_train.shape[1]\n",
    "width = np.sqrt(size).astype('int32')\n",
    "height = width\n",
    "X_train = X_train.reshape(X_train.shape[0], width, height, 1)\n",
    "print('shape of train X: {}'.format(X_train.shape))\n",
    "Y_train = train_label.values.astype('int32')\n",
    "Y_train = np_utils.to_categorical(Y_train)\n",
    "print('shape of train Y: {}'.format(Y_train.shape))\n",
    "X_test = test_data.values.astype('float32')\n",
    "X_test = X_test.reshape(X_test.shape[0], width, height, 1)\n",
    "print('shape of test X: {}'.format(X_test.shape))"
   ]
  },
  {
   "cell_type": "code",
   "execution_count": 128,
   "metadata": {},
   "outputs": [
    {
     "data": {
      "text/plain": [
       "<matplotlib.text.Text at 0x121087bd0>"
      ]
     },
     "execution_count": 128,
     "metadata": {},
     "output_type": "execute_result"
    },
    {
     "data": {
      "image/png": "[encoded data removed]",
      "text/plain": [
       "<matplotlib.figure.Figure at 0x121c06a10>"
      ]
     },
     "metadata": {},
     "output_type": "display_data"
    }
   ],
   "source": [
    "# Verify data\n",
    "index = np.random.randint(0, X_train.shape[0])\n",
    "plt.figure(figsize=(1, 1))\n",
    "plt.imshow(X_train[index].reshape(width, height), cmap=plt.get_cmap('gray'))\n",
    "title = [i for i, v in enumerate(Y_train[index]) if int(v) == 1]\n",
    "plt.title(title)"
   ]
  },
  {
   "cell_type": "code",
   "execution_count": 129,
   "metadata": {
    "collapsed": true
   },
   "outputs": [],
   "source": [
    "# Normalizing input\n",
    "validation_split = 0.05\n",
    "train_size = int(X_train.shape[0]*(1-validation_split))\n",
    "def normalize(X):\n",
    "    return X/255-np.mean(X_train[:train_size]/255, axis=0)\n",
    "X_train_normalized = normalize(X_train)\n",
    "X_test_normalized = normalize(X_test)"
   ]
  },
  {
   "cell_type": "code",
   "execution_count": 130,
   "metadata": {},
   "outputs": [
    {
     "name": "stdout",
     "output_type": "stream",
     "text": [
      "(28, 28, 1)\n",
      "0.00105774\n",
      "0.0113666\n"
     ]
    }
   ],
   "source": [
    "print(np.mean(X_train_normalized, axis=0).shape)\n",
    "print(np.max(np.mean(X_train_normalized, axis=0)))\n",
    "print(np.max(np.mean(X_test_normalized, axis=0)))"
   ]
  },
  {
   "cell_type": "code",
   "execution_count": 131,
   "metadata": {},
   "outputs": [
    {
     "name": "stdout",
     "output_type": "stream",
     "text": [
      "_________________________________________________________________\n",
      "Layer (type)                 Output Shape              Param #   \n",
      "=================================================================\n",
      "conv2d_16 (Conv2D)           (None, 26, 26, 8)         80        \n",
      "_________________________________________________________________\n",
      "max_pooling2d_6 (MaxPooling2 (None, 13, 13, 8)         0         \n",
      "_________________________________________________________________\n",
      "dropout_13 (Dropout)         (None, 13, 13, 8)         0         \n",
      "_________________________________________________________________\n",
      "conv2d_17 (Conv2D)           (None, 11, 11, 16)        1168      \n",
      "_________________________________________________________________\n",
      "max_pooling2d_7 (MaxPooling2 (None, 5, 5, 16)          0         \n",
      "_________________________________________________________________\n",
      "dropout_14 (Dropout)         (None, 5, 5, 16)          0         \n",
      "_________________________________________________________________\n",
      "flatten_3 (Flatten)          (None, 400)               0         \n",
      "_________________________________________________________________\n",
      "dense_5 (Dense)              (None, 256)               102656    \n",
      "_________________________________________________________________\n",
      "dense_6 (Dense)              (None, 10)                2570      \n",
      "=================================================================\n",
      "Total params: 106,474\n",
      "Trainable params: 106,474\n",
      "Non-trainable params: 0\n",
      "_________________________________________________________________\n"
     ]
    }
   ],
   "source": [
    "# Build model\n",
    "model = Sequential()\n",
    "model.add(Conv2D(8, (3, 3), activation='relu', input_shape=X_train_normalized.shape[1:]))\n",
    "model.add(MaxPooling2D(pool_size=(2, 2)))\n",
    "model.add(Dropout(0.25))\n",
    "model.add(Conv2D(16, (3, 3), activation='relu'))\n",
    "model.add(MaxPooling2D(pool_size=(2, 2)))\n",
    "model.add(Dropout(0.25))\n",
    "model.add(Flatten())\n",
    "model.add(Dense(256, activation='relu'))\n",
    "model.add(Dense(10, activation='softmax'))\n",
    "model.summary()\n",
    "model.compile(loss='categorical_crossentropy', optimizer='RMSprop', metrics=['accuracy'])"
   ]
  },
  {
   "cell_type": "code",
   "execution_count": 132,
   "metadata": {},
   "outputs": [
    {
     "name": "stdout",
     "output_type": "stream",
     "text": [
      "Train on 39900 samples, validate on 2100 samples\n",
      "Epoch 1/20\n",
      "39900/39900 [==============================] - 26s - loss: 0.3148 - acc: 0.9005 - val_loss: 0.1066 - val_acc: 0.9657\n",
      "Epoch 2/20\n",
      "39900/39900 [==============================] - 22s - loss: 0.1218 - acc: 0.9613 - val_loss: 0.0548 - val_acc: 0.9829\n",
      "Epoch 3/20\n",
      "39900/39900 [==============================] - 23s - loss: 0.0972 - acc: 0.9684 - val_loss: 0.0529 - val_acc: 0.9814\n",
      "Epoch 4/20\n",
      "39900/39900 [==============================] - 23s - loss: 0.0806 - acc: 0.9753 - val_loss: 0.0531 - val_acc: 0.9814\n",
      "Epoch 5/20\n",
      "39900/39900 [==============================] - 22s - loss: 0.0731 - acc: 0.9765 - val_loss: 0.0455 - val_acc: 0.9843\n",
      "Epoch 6/20\n",
      "39900/39900 [==============================] - 24s - loss: 0.0671 - acc: 0.9793 - val_loss: 0.0418 - val_acc: 0.9867\n",
      "Epoch 7/20\n",
      "39900/39900 [==============================] - 26s - loss: 0.0642 - acc: 0.9800 - val_loss: 0.0430 - val_acc: 0.9857\n",
      "Epoch 8/20\n",
      "39900/39900 [==============================] - 27s - loss: 0.0583 - acc: 0.9813 - val_loss: 0.0347 - val_acc: 0.9862\n",
      "Epoch 9/20\n",
      "39900/39900 [==============================] - 29s - loss: 0.0585 - acc: 0.9814 - val_loss: 0.0411 - val_acc: 0.9852\n",
      "Epoch 10/20\n",
      "39900/39900 [==============================] - 26s - loss: 0.0561 - acc: 0.9825 - val_loss: 0.0356 - val_acc: 0.9871\n",
      "Epoch 11/20\n",
      "39900/39900 [==============================] - 35s - loss: 0.0537 - acc: 0.9839 - val_loss: 0.0322 - val_acc: 0.9886\n",
      "Epoch 12/20\n",
      "39900/39900 [==============================] - 24s - loss: 0.0521 - acc: 0.9837 - val_loss: 0.0380 - val_acc: 0.9862\n",
      "Epoch 13/20\n",
      "39900/39900 [==============================] - 25s - loss: 0.0517 - acc: 0.9844 - val_loss: 0.0313 - val_acc: 0.9900\n",
      "Epoch 14/20\n",
      "39900/39900 [==============================] - 22s - loss: 0.0526 - acc: 0.9840 - val_loss: 0.0395 - val_acc: 0.9857\n",
      "Epoch 15/20\n",
      "39900/39900 [==============================] - 23s - loss: 0.0522 - acc: 0.9840 - val_loss: 0.0340 - val_acc: 0.9886\n",
      "Epoch 16/20\n",
      "39900/39900 [==============================] - 23s - loss: 0.0498 - acc: 0.9847 - val_loss: 0.0334 - val_acc: 0.9890\n",
      "Epoch 17/20\n",
      "39900/39900 [==============================] - 29s - loss: 0.0517 - acc: 0.9846 - val_loss: 0.0389 - val_acc: 0.9871\n",
      "Epoch 18/20\n",
      "39900/39900 [==============================] - 26s - loss: 0.0502 - acc: 0.9851 - val_loss: 0.0312 - val_acc: 0.9900\n",
      "Epoch 19/20\n",
      "39900/39900 [==============================] - 32s - loss: 0.0480 - acc: 0.9855 - val_loss: 0.0333 - val_acc: 0.9876\n",
      "Epoch 20/20\n",
      "39900/39900 [==============================] - 24s - loss: 0.0484 - acc: 0.9853 - val_loss: 0.0340 - val_acc: 0.9900\n",
      "Takes 522.46241188s\n"
     ]
    }
   ],
   "source": [
    "# Train model\n",
    "start = time.time()\n",
    "history = model.fit(X_train_normalized, Y_train, batch_size=32, epochs=20, verbose=1, \n",
    "          validation_split=validation_split, shuffle=True)\n",
    "end = time.time()\n",
    "print('Takes {}s'.format(end-start))"
   ]
  },
  {
   "cell_type": "code",
   "execution_count": 149,
   "metadata": {},
   "outputs": [
    {
     "name": "stdout",
     "output_type": "stream",
     "text": [
      "2100/2100 [==============================] - 0s\n",
      "[0.034018129110336304, 0.99000000953674316]\n"
     ]
    }
   ],
   "source": [
    "X_validation = X_train_normalized[train_size:]\n",
    "Y_validation = Y_train[train_size:]\n",
    "print model.evaluate(X_validation, Y_validation, batch_size=X_validation.shape[0])"
   ]
  },
  {
   "cell_type": "code",
   "execution_count": 148,
   "metadata": {},
   "outputs": [
    {
     "name": "stdout",
     "output_type": "stream",
     "text": [
      "['acc', 'loss', 'val_acc', 'val_loss']\n"
     ]
    },
    {
     "data": {
      "image/png": "[encoded data removed]",
      "text/plain": [
       "<matplotlib.figure.Figure at 0x12115fe10>"
      ]
     },
     "metadata": {},
     "output_type": "display_data"
    }
   ],
   "source": [
    "# Plot trends to decide action for improvement\n",
    "print(history.history.keys())\n",
    "history_data = history.history\n",
    "fig, axes = plt.subplots(2, 2)\n",
    "fig.tight_layout()\n",
    "for i, key in enumerate(history_data.keys()):\n",
    "    ax = plt.subplot(2, 2, i+1)\n",
    "    plt.plot(history_data[key])\n",
    "    ax.set_title(key)"
   ]
  },
  {
   "cell_type": "markdown",
   "metadata": {},
   "source": [
    "Accuracy is slowly improving and loss is decreasing, so try to train for longer."
   ]
  },
  {
   "cell_type": "code",
   "execution_count": 150,
   "metadata": {
    "collapsed": true
   },
   "outputs": [],
   "source": [
    "histories = []\n",
    "histories.append(history)"
   ]
  },
  {
   "cell_type": "code",
   "execution_count": 152,
   "metadata": {},
   "outputs": [
    {
     "name": "stdout",
     "output_type": "stream",
     "text": [
      "Train on 39900 samples, validate on 2100 samples\n",
      "Epoch 1/20\n",
      "39900/39900 [==============================] - 24s - loss: 0.0518 - acc: 0.9842 - val_loss: 0.0409 - val_acc: 0.9867\n",
      "Epoch 2/20\n",
      "39900/39900 [==============================] - 23s - loss: 0.0468 - acc: 0.9858 - val_loss: 0.0382 - val_acc: 0.9890\n",
      "Epoch 3/20\n",
      "39900/39900 [==============================] - 23s - loss: 0.0480 - acc: 0.9855 - val_loss: 0.0409 - val_acc: 0.9890\n",
      "Epoch 4/20\n",
      "39900/39900 [==============================] - 22s - loss: 0.0462 - acc: 0.9857 - val_loss: 0.0359 - val_acc: 0.9881\n",
      "Epoch 5/20\n",
      "39900/39900 [==============================] - 22s - loss: 0.0484 - acc: 0.9855 - val_loss: 0.0362 - val_acc: 0.9876\n",
      "Epoch 6/20\n",
      "39900/39900 [==============================] - 23s - loss: 0.0495 - acc: 0.9857 - val_loss: 0.0371 - val_acc: 0.9895\n",
      "Epoch 7/20\n",
      "39900/39900 [==============================] - 25s - loss: 0.0500 - acc: 0.9854 - val_loss: 0.0349 - val_acc: 0.9924\n",
      "Epoch 8/20\n",
      "39900/39900 [==============================] - 24s - loss: 0.0493 - acc: 0.9852 - val_loss: 0.0504 - val_acc: 0.9852\n",
      "Epoch 9/20\n",
      "39900/39900 [==============================] - 26s - loss: 0.0530 - acc: 0.9844 - val_loss: 0.0386 - val_acc: 0.9876\n",
      "Epoch 10/20\n",
      "39900/39900 [==============================] - 25s - loss: 0.0521 - acc: 0.9850 - val_loss: 0.0454 - val_acc: 0.9871\n",
      "Epoch 11/20\n",
      "39900/39900 [==============================] - 24s - loss: 0.0509 - acc: 0.9854 - val_loss: 0.0393 - val_acc: 0.9881\n",
      "Epoch 12/20\n",
      "39900/39900 [==============================] - 24s - loss: 0.0502 - acc: 0.9849 - val_loss: 0.0388 - val_acc: 0.9876\n",
      "Epoch 13/20\n",
      "39900/39900 [==============================] - 23s - loss: 0.0505 - acc: 0.9858 - val_loss: 0.0442 - val_acc: 0.9876\n",
      "Epoch 14/20\n",
      "39900/39900 [==============================] - 23s - loss: 0.0496 - acc: 0.9856 - val_loss: 0.0393 - val_acc: 0.9886\n",
      "Epoch 15/20\n",
      "39900/39900 [==============================] - 22s - loss: 0.0520 - acc: 0.9844 - val_loss: 0.0413 - val_acc: 0.9895\n",
      "Epoch 16/20\n",
      "39900/39900 [==============================] - 25s - loss: 0.0488 - acc: 0.9854 - val_loss: 0.0367 - val_acc: 0.9881\n",
      "Epoch 17/20\n",
      "39900/39900 [==============================] - 24s - loss: 0.0485 - acc: 0.9862 - val_loss: 0.0386 - val_acc: 0.9881\n",
      "Epoch 18/20\n",
      "39900/39900 [==============================] - 24s - loss: 0.0494 - acc: 0.9859 - val_loss: 0.0368 - val_acc: 0.9886\n",
      "Epoch 19/20\n",
      "39900/39900 [==============================] - 25s - loss: 0.0507 - acc: 0.9850 - val_loss: 0.0452 - val_acc: 0.9886\n",
      "Epoch 20/20\n",
      "39900/39900 [==============================] - 24s - loss: 0.0511 - acc: 0.9855 - val_loss: 0.0312 - val_acc: 0.9905\n",
      "Takes 483.360984087s\n"
     ]
    }
   ],
   "source": [
    "# Train for longer\n",
    "start = time.time()\n",
    "history = model.fit(X_train_normalized, Y_train, batch_size=32, epochs=20, verbose=1, \n",
    "          validation_split=validation_split, shuffle=True)\n",
    "end = time.time()\n",
    "print('Takes {}s'.format(end-start))"
   ]
  },
  {
   "cell_type": "code",
   "execution_count": 153,
   "metadata": {},
   "outputs": [
    {
     "data": {
      "image/png": "[encoded data removed]",
      "text/plain": [
       "<matplotlib.figure.Figure at 0x1223eff90>"
      ]
     },
     "metadata": {},
     "output_type": "display_data"
    }
   ],
   "source": [
    "histories.append(history)\n",
    "history_data = history.history\n",
    "fig, axes = plt.subplots(2, 2)\n",
    "fig.tight_layout()\n",
    "for i, key in enumerate(history_data.keys()):\n",
    "    ax = plt.subplot(2, 2, i+1)\n",
    "    plt.plot(history_data[key])\n",
    "    ax.set_title(key)"
   ]
  },
  {
   "cell_type": "code",
   "execution_count": 154,
   "metadata": {},
   "outputs": [
    {
     "name": "stdout",
     "output_type": "stream",
     "text": [
      "2100/2100 [==============================] - 0s\n",
      "[0.031204797327518463, 0.99047619104385376]\n"
     ]
    }
   ],
   "source": [
    "# Save model\n",
    "from keras.models import load_model\n",
    "\n",
    "model.save('digit_recognizer.h5')\n",
    "del model\n",
    "\n",
    "model = load_model('digit_recognizer.h5')\n",
    "X_validation = X_train_normalized[train_size:]\n",
    "Y_validation = Y_train[train_size:]\n",
    "print model.evaluate(X_validation, Y_validation, batch_size=X_validation.shape[0])"
   ]
  },
  {
   "cell_type": "markdown",
   "metadata": {},
   "source": [
    "Final validation accuracy is ~99%."
   ]
  },
  {
   "cell_type": "code",
   "execution_count": 155,
   "metadata": {},
   "outputs": [
    {
     "name": "stdout",
     "output_type": "stream",
     "text": [
      "27872/28000 [============================>.] - ETA: 0s"
     ]
    }
   ],
   "source": [
    "# Make predictions for Kaggle submission\n",
    "preds = model.predict_classes(X_test_normalized, verbose=1)\n",
    "pd.DataFrame({\n",
    "    'ImageId': list(range(1, len(preds)+1)),\n",
    "    'Label': preds}).to_csv('submission.csv', index=False, header=True)"
   ]
  },
  {
   "cell_type": "code",
   "execution_count": 163,
   "metadata": {},
   "outputs": [
    {
     "data": {
      "text/plain": [
       "<matplotlib.text.Text at 0x12254c650>"
      ]
     },
     "execution_count": 163,
     "metadata": {},
     "output_type": "execute_result"
    },
    {
     "data": {
      "image/png": "[encoded data removed]",
      "text/plain": [
       "<matplotlib.figure.Figure at 0x12243f290>"
      ]
     },
     "metadata": {},
     "output_type": "display_data"
    }
   ],
   "source": [
    "# Check\n",
    "index = np.random.randint(len(X_test))\n",
    "plt.figure(figsize=(1,1))\n",
    "plt.imshow(X_test[index].reshape(width, height), cmap=plt.get_cmap('gray'))\n",
    "plt.title(preds[index])"
   ]
  }
 ],
 "metadata": {
  "kernelspec": {
   "display_name": "udacity_env",
   "language": "python",
   "name": "udacity_env"
  },
  "language_info": {
   "codemirror_mode": {
    "name": "ipython",
    "version": 2
   },
   "file_extension": ".py",
   "mimetype": "text/x-python",
   "name": "python",
   "nbconvert_exporter": "python",
   "pygments_lexer": "ipython2",
   "version": "2.7.13"
  }
 },
 "nbformat": 4,
 "nbformat_minor": 2
}
